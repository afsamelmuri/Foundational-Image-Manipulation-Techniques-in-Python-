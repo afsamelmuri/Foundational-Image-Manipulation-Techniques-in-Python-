{
 "cells": [
  {
   "cell_type": "markdown",
   "id": "5711ed76",
   "metadata": {},
   "source": [
    "## 1. Reading, Displaying, and Saving an Image"
   ]
  },
  {
   "cell_type": "markdown",
   "id": "7414c01d",
   "metadata": {},
   "source": [
    "In this task, we read an image, display it, and save it using OpenCV."
   ]
  },
  {
   "cell_type": "code",
   "execution_count": 19,
   "id": "cc5036fd",
   "metadata": {},
   "outputs": [
    {
     "data": {
      "text/plain": [
       "True"
      ]
     },
     "execution_count": 19,
     "metadata": {},
     "output_type": "execute_result"
    }
   ],
   "source": [
    "\n",
    "import cv2\n",
    "\n",
    "# Read the image\n",
    "image = cv2.imread('story_lena_lenna_1.jpg')  # Make sure 'Lenna.png' is in the working directory\n",
    "\n",
    "# Display the image\n",
    "cv2.imshow('Original Image', image)\n",
    "cv2.waitKey(0)\n",
    "cv2.destroyAllWindows()\n",
    "\n",
    "# Save the image\n",
    "cv2.imwrite('saved_image.jpg', image)  # Saves the image as 'saved_image.jpg'\n"
   ]
  },
  {
   "cell_type": "markdown",
   "id": "087089e1",
   "metadata": {},
   "source": [
    "## 2. Converting and Displaying Images: RGB to Grayscale"
   ]
  },
  {
   "cell_type": "markdown",
   "id": "4ba7f96e",
   "metadata": {},
   "source": [
    "This section converts an RGB image to grayscale and displays the result."
   ]
  },
  {
   "cell_type": "code",
   "execution_count": 20,
   "id": "d8445b84",
   "metadata": {},
   "outputs": [],
   "source": [
    "import cv2\n",
    "# Read the image in color\n",
    "image = cv2.imread('SweetPeppers.jpg')  # Make sure 'Peppers.png' is in the working directory\n",
    "\n",
    "# Convert to grayscale\n",
    "gray_image = cv2.cvtColor(image, cv2.COLOR_BGR2GRAY)\n",
    "\n",
    "# Display grayscale image\n",
    "cv2.imshow('Grayscale Image', gray_image)\n",
    "cv2.waitKey(0)\n",
    "cv2.destroyAllWindows()\n"
   ]
  },
  {
   "cell_type": "markdown",
   "id": "44f73609",
   "metadata": {},
   "source": [
    "## 3. Modifying an Image: Changing the Center Pixel Color"
   ]
  },
  {
   "cell_type": "markdown",
   "id": "2050c21b",
   "metadata": {},
   "source": [
    "In this part, we change the center pixel of the image to red."
   ]
  },
  {
   "cell_type": "code",
   "execution_count": 11,
   "id": "e3f9ab70",
   "metadata": {},
   "outputs": [],
   "source": [
    "\n",
    "# Read the image\n",
    "image = cv2.imread('The-cameraman-picture-with-256-256-size.png')  # Make sure 'Cameraman.tif' is in the working directory\n",
    "height, width, _ = image.shape\n",
    "\n",
    "# Calculate the center coordinates\n",
    "center_y, center_x = height // 2, width // 2\n",
    "\n",
    "# Change the center pixel to red (BGR format)\n",
    "image[center_y, center_x] = [0, 0, 255]\n",
    "\n",
    "# Display modified image\n",
    "cv2.imshow('Modified Image', image)\n",
    "cv2.waitKey(0)\n",
    "cv2.destroyAllWindows()\n"
   ]
  },
  {
   "cell_type": "markdown",
   "id": "5aaea591",
   "metadata": {},
   "source": [
    "## 4. Adding Text to an Image"
   ]
  },
  {
   "cell_type": "markdown",
   "id": "b5a6bfab",
   "metadata": {},
   "source": [
    "This cell adds text to the image using OpenCV's text functions."
   ]
  },
  {
   "cell_type": "code",
   "execution_count": 18,
   "id": "750cfabb",
   "metadata": {},
   "outputs": [],
   "source": [
    "\n",
    "# Read the image\n",
    "image = cv2.imread('Beach.jpg')  # Make sure 'Beach.jpg' is in the working directory\n",
    "\n",
    "# Add text to the image\n",
    "text = \"OpenCV Text\"\n",
    "position = (50, 50)  # Coordinates for text placement\n",
    "font = cv2.FONT_HERSHEY_SIMPLEX\n",
    "cv2.putText(image, text, position, font, 1, (255, 0, 0), 2)\n",
    "\n",
    "# Display the image with text\n",
    "cv2.imshow('Text Added', image)\n",
    "cv2.waitKey(0)\n",
    "cv2.destroyAllWindows()\n"
   ]
  },
  {
   "cell_type": "markdown",
   "id": "29e52c75",
   "metadata": {},
   "source": [
    "## 5. Modifying a Region of an Image: Changing a 20x20 Pixel Area to Blue"
   ]
  },
  {
   "cell_type": "markdown",
   "id": "13bb1d65",
   "metadata": {},
   "source": [
    "This section modifies a small region in the image by changing it to blue."
   ]
  },
  {
   "cell_type": "code",
   "execution_count": 14,
   "id": "6994261f",
   "metadata": {},
   "outputs": [],
   "source": [
    "\n",
    "# Read the image\n",
    "image = cv2.imread('baboon.png')  # Make sure 'Baboon.png' is in the working directory\n",
    "\n",
    "# Define the top-left corner of the region\n",
    "start_x, start_y = 50, 50\n",
    "\n",
    "# Change a 20x20 area to blue\n",
    "image[start_y:start_y+20, start_x:start_x+20] = [255, 0, 0]  # Blue in BGR\n",
    "\n",
    "# Display the modified image\n",
    "cv2.imshow('Modified Region', image)\n",
    "cv2.waitKey(0)\n",
    "cv2.destroyAllWindows()\n"
   ]
  },
  {
   "cell_type": "markdown",
   "id": "fa4a9287",
   "metadata": {},
   "source": [
    "## 6. Converting RGB Images to CMYK and YCrCb Color Spaces"
   ]
  },
  {
   "cell_type": "markdown",
   "id": "9c3252b4",
   "metadata": {},
   "source": [
    "This section converts the image to CMYK (using PIL) and YCrCb (using OpenCV) color spaces."
   ]
  },
  {
   "cell_type": "code",
   "execution_count": 16,
   "id": "58cc63de",
   "metadata": {},
   "outputs": [],
   "source": [
    "\n",
    "from PIL import Image\n",
    "\n",
    "# Read the image\n",
    "image = Image.open('mandril.jfif')  # Make sure 'Mandrill.png' is in the working directory\n",
    "\n",
    "# Convert to CMYK\n",
    "cmyk_image = image.convert('CMYK')\n",
    "cmyk_image.show()\n",
    "\n",
    "# Convert to YCrCb using OpenCV\n",
    "image_cv = cv2.imread('mandril.jfif')  # Load using OpenCV to convert to YCrCb\n",
    "ycrcb_image = cv2.cvtColor(image_cv, cv2.COLOR_BGR2YCrCb)\n",
    "\n",
    "# Display YCrCb Image\n",
    "cv2.imshow('YCrCb Image', ycrcb_image)\n",
    "cv2.waitKey(0)\n",
    "cv2.destroyAllWindows()\n"
   ]
  },
  {
   "cell_type": "code",
   "execution_count": null,
   "id": "6d139d49-8e97-4ee8-a801-b518588f1d64",
   "metadata": {},
   "outputs": [],
   "source": []
  },
  {
   "cell_type": "code",
   "execution_count": null,
   "id": "e9fcc6b3-f238-4c47-9aa1-b3c338620e89",
   "metadata": {},
   "outputs": [],
   "source": []
  },
  {
   "cell_type": "code",
   "execution_count": null,
   "id": "fd7d47e9-9058-4401-8856-c0bc80e8f3ab",
   "metadata": {},
   "outputs": [],
   "source": []
  }
 ],
 "metadata": {
  "kernelspec": {
   "display_name": "Python 3 (ipykernel)",
   "language": "python",
   "name": "python3"
  },
  "language_info": {
   "codemirror_mode": {
    "name": "ipython",
    "version": 3
   },
   "file_extension": ".py",
   "mimetype": "text/x-python",
   "name": "python",
   "nbconvert_exporter": "python",
   "pygments_lexer": "ipython3",
   "version": "3.11.7"
  }
 },
 "nbformat": 4,
 "nbformat_minor": 5
}
